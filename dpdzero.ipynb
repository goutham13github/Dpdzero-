{
 "cells": [
  {
   "cell_type": "code",
   "execution_count": 41,
   "id": "77a048ee",
   "metadata": {},
   "outputs": [
    {
     "data": {
      "text/html": [
       "<div>\n",
       "<style scoped>\n",
       "    .dataframe tbody tr th:only-of-type {\n",
       "        vertical-align: middle;\n",
       "    }\n",
       "\n",
       "    .dataframe tbody tr th {\n",
       "        vertical-align: top;\n",
       "    }\n",
       "\n",
       "    .dataframe thead th {\n",
       "        text-align: right;\n",
       "    }\n",
       "</style>\n",
       "<table border=\"1\" class=\"dataframe\">\n",
       "  <thead>\n",
       "    <tr style=\"text-align: right;\">\n",
       "      <th></th>\n",
       "      <th>Amount Pending</th>\n",
       "      <th>State</th>\n",
       "      <th>Tenure</th>\n",
       "      <th>Interest Rate</th>\n",
       "      <th>City</th>\n",
       "      <th>Bounce String</th>\n",
       "      <th>Disbursed Amount</th>\n",
       "      <th>Loan Number</th>\n",
       "    </tr>\n",
       "  </thead>\n",
       "  <tbody>\n",
       "    <tr>\n",
       "      <th>0</th>\n",
       "      <td>963</td>\n",
       "      <td>Karnataka</td>\n",
       "      <td>11</td>\n",
       "      <td>7.69</td>\n",
       "      <td>Bangalore</td>\n",
       "      <td>SSS</td>\n",
       "      <td>10197</td>\n",
       "      <td>JZ6FS</td>\n",
       "    </tr>\n",
       "    <tr>\n",
       "      <th>1</th>\n",
       "      <td>1194</td>\n",
       "      <td>Karnataka</td>\n",
       "      <td>11</td>\n",
       "      <td>6.16</td>\n",
       "      <td>Bangalore</td>\n",
       "      <td>SSB</td>\n",
       "      <td>12738</td>\n",
       "      <td>RDIOY</td>\n",
       "    </tr>\n",
       "    <tr>\n",
       "      <th>2</th>\n",
       "      <td>1807</td>\n",
       "      <td>Karnataka</td>\n",
       "      <td>14</td>\n",
       "      <td>4.24</td>\n",
       "      <td>Hassan</td>\n",
       "      <td>BBS</td>\n",
       "      <td>24640</td>\n",
       "      <td>WNW4L</td>\n",
       "    </tr>\n",
       "    <tr>\n",
       "      <th>3</th>\n",
       "      <td>2451</td>\n",
       "      <td>Karnataka</td>\n",
       "      <td>10</td>\n",
       "      <td>4.70</td>\n",
       "      <td>Bangalore</td>\n",
       "      <td>SSS</td>\n",
       "      <td>23990</td>\n",
       "      <td>6LBJS</td>\n",
       "    </tr>\n",
       "    <tr>\n",
       "      <th>4</th>\n",
       "      <td>2611</td>\n",
       "      <td>Karnataka</td>\n",
       "      <td>10</td>\n",
       "      <td>4.41</td>\n",
       "      <td>Mysore</td>\n",
       "      <td>SSB</td>\n",
       "      <td>25590</td>\n",
       "      <td>ZFZUA</td>\n",
       "    </tr>\n",
       "    <tr>\n",
       "      <th>...</th>\n",
       "      <td>...</td>\n",
       "      <td>...</td>\n",
       "      <td>...</td>\n",
       "      <td>...</td>\n",
       "      <td>...</td>\n",
       "      <td>...</td>\n",
       "      <td>...</td>\n",
       "      <td>...</td>\n",
       "    </tr>\n",
       "    <tr>\n",
       "      <th>24577</th>\n",
       "      <td>899</td>\n",
       "      <td>Andhra Pradesh</td>\n",
       "      <td>8</td>\n",
       "      <td>0.00</td>\n",
       "      <td>Chittoor</td>\n",
       "      <td>FEMI</td>\n",
       "      <td>7192</td>\n",
       "      <td>EAX5C</td>\n",
       "    </tr>\n",
       "    <tr>\n",
       "      <th>24578</th>\n",
       "      <td>2699</td>\n",
       "      <td>Andhra Pradesh</td>\n",
       "      <td>8</td>\n",
       "      <td>0.00</td>\n",
       "      <td>Krishna</td>\n",
       "      <td>FEMI</td>\n",
       "      <td>21592</td>\n",
       "      <td>5MCE9</td>\n",
       "    </tr>\n",
       "    <tr>\n",
       "      <th>24579</th>\n",
       "      <td>1540</td>\n",
       "      <td>Andhra Pradesh</td>\n",
       "      <td>8</td>\n",
       "      <td>0.00</td>\n",
       "      <td>Krishna</td>\n",
       "      <td>FEMI</td>\n",
       "      <td>12320</td>\n",
       "      <td>9HO4Q</td>\n",
       "    </tr>\n",
       "    <tr>\n",
       "      <th>24580</th>\n",
       "      <td>824</td>\n",
       "      <td>Andhra Pradesh</td>\n",
       "      <td>8</td>\n",
       "      <td>0.00</td>\n",
       "      <td>Guntur</td>\n",
       "      <td>FEMI</td>\n",
       "      <td>6592</td>\n",
       "      <td>3VV72</td>\n",
       "    </tr>\n",
       "    <tr>\n",
       "      <th>24581</th>\n",
       "      <td>2254</td>\n",
       "      <td>Andhra Pradesh</td>\n",
       "      <td>11</td>\n",
       "      <td>0.00</td>\n",
       "      <td>Kurnool</td>\n",
       "      <td>FEMI</td>\n",
       "      <td>24794</td>\n",
       "      <td>18XBC</td>\n",
       "    </tr>\n",
       "  </tbody>\n",
       "</table>\n",
       "<p>24582 rows × 8 columns</p>\n",
       "</div>"
      ],
      "text/plain": [
       "       Amount Pending           State  Tenure  Interest Rate       City  \\\n",
       "0                 963       Karnataka      11           7.69  Bangalore   \n",
       "1                1194       Karnataka      11           6.16  Bangalore   \n",
       "2                1807       Karnataka      14           4.24     Hassan   \n",
       "3                2451       Karnataka      10           4.70  Bangalore   \n",
       "4                2611       Karnataka      10           4.41     Mysore   \n",
       "...               ...             ...     ...            ...        ...   \n",
       "24577             899  Andhra Pradesh       8           0.00   Chittoor   \n",
       "24578            2699  Andhra Pradesh       8           0.00    Krishna   \n",
       "24579            1540  Andhra Pradesh       8           0.00    Krishna   \n",
       "24580             824  Andhra Pradesh       8           0.00     Guntur   \n",
       "24581            2254  Andhra Pradesh      11           0.00    Kurnool   \n",
       "\n",
       "      Bounce String  Disbursed Amount Loan Number  \n",
       "0               SSS             10197       JZ6FS  \n",
       "1               SSB             12738       RDIOY  \n",
       "2               BBS             24640       WNW4L  \n",
       "3               SSS             23990       6LBJS  \n",
       "4               SSB             25590       ZFZUA  \n",
       "...             ...               ...         ...  \n",
       "24577          FEMI              7192       EAX5C  \n",
       "24578          FEMI             21592       5MCE9  \n",
       "24579          FEMI             12320       9HO4Q  \n",
       "24580          FEMI              6592       3VV72  \n",
       "24581          FEMI             24794       18XBC  \n",
       "\n",
       "[24582 rows x 8 columns]"
      ]
     },
     "execution_count": 41,
     "metadata": {},
     "output_type": "execute_result"
    }
   ],
   "source": [
    "import pandas as pd\n",
    "df=pd.read_csv(\"Data_Analyst_Assignment_Dataset.csv\")\n",
    "df\n"
   ]
  },
  {
   "cell_type": "code",
   "execution_count": 42,
   "id": "808efe0d",
   "metadata": {},
   "outputs": [
    {
     "data": {
      "text/plain": [
       "Amount Pending      0\n",
       "State               0\n",
       "Tenure              0\n",
       "Interest Rate       0\n",
       "City                0\n",
       "Bounce String       0\n",
       "Disbursed Amount    0\n",
       "Loan Number         0\n",
       "dtype: int64"
      ]
     },
     "execution_count": 42,
     "metadata": {},
     "output_type": "execute_result"
    }
   ],
   "source": [
    "df.isnull().sum()"
   ]
  },
  {
   "cell_type": "code",
   "execution_count": 43,
   "id": "ee79212c",
   "metadata": {},
   "outputs": [
    {
     "data": {
      "text/plain": [
       "Amount Pending        int64\n",
       "State                object\n",
       "Tenure                int64\n",
       "Interest Rate       float64\n",
       "City                 object\n",
       "Bounce String        object\n",
       "Disbursed Amount      int64\n",
       "Loan Number          object\n",
       "dtype: object"
      ]
     },
     "execution_count": 43,
     "metadata": {},
     "output_type": "execute_result"
    }
   ],
   "source": [
    "df.dtypes"
   ]
  },
  {
   "cell_type": "markdown",
   "id": "b97e1adc",
   "metadata": {},
   "source": [
    "# Risk Label"
   ]
  },
  {
   "cell_type": "code",
   "execution_count": 44,
   "id": "32eb1daa",
   "metadata": {},
   "outputs": [],
   "source": [
    "#str: The label indicating the risk category of the borrower (Unknown Risk, Low Risk, Medium Risk, or High Risk).\n",
    "def calculate_risk_label(bounce_string):\n",
    "   \n",
    "\n",
    "    if 'FEMI' in bounce_string:\n",
    "        return \"Unknown Risk\"  # New customer\n",
    "    elif bounce_string[-6:].count('B') == 0:\n",
    "        return \"Low Risk\"  # No bounce in the last 6 months\n",
    "    elif bounce_string[-6:].count('B') < 2 and bounce_string[-1] != 'B':\n",
    "        return \"Medium Risk\"  # Bounced less than twice in last 6 months and not in the last month\n",
    "    else:\n",
    "        return \"High Risk\"  # Every other customer\n",
    "\n",
    "# Apply the calculate_risk_label function to create the 'Risk' column\n",
    "df['Risk Label'] = df['Bounce String'].apply(calculate_risk_label)\n",
    "\n",
    "\n"
   ]
  },
  {
   "cell_type": "code",
   "execution_count": 45,
   "id": "8cf83776",
   "metadata": {},
   "outputs": [
    {
     "data": {
      "text/plain": [
       "Risk Label\n",
       "Low Risk        14776\n",
       "High Risk        4526\n",
       "Unknown Risk     3222\n",
       "Medium Risk      2058\n",
       "Name: count, dtype: int64"
      ]
     },
     "execution_count": 45,
     "metadata": {},
     "output_type": "execute_result"
    }
   ],
   "source": [
    "df[\"Risk Label\"].value_counts()"
   ]
  },
  {
   "cell_type": "markdown",
   "id": "b96ec760",
   "metadata": {},
   "source": [
    "# Tenure Label"
   ]
  },
  {
   "cell_type": "code",
   "execution_count": 46,
   "id": "3139ce0e",
   "metadata": {},
   "outputs": [],
   "source": [
    "def calculate_tenure_label(bounce_string, tenure):\n",
    "    \n",
    "    months_on_book = len(bounce_string)\n",
    "    \n",
    "    if months_on_book <= 3:\n",
    "        return \"Early Tenure\"\n",
    "    \n",
    "    elif months_on_book >= (tenure - 3):\n",
    "        return \"Late Tenure\"\n",
    "    \n",
    "    else:\n",
    "        return \"Mid Tenure\"\n",
    "\n",
    "# Let's create a new column 'Tenure Label' using the calculate_tenure_label function\n",
    "\n",
    "df['Tenure Label'] = df.apply(lambda row: calculate_tenure_label(row['Bounce String'], row['Tenure']), axis=1)\n",
    "\n"
   ]
  },
  {
   "cell_type": "code",
   "execution_count": 47,
   "id": "fcfab257",
   "metadata": {},
   "outputs": [
    {
     "data": {
      "text/plain": [
       "Tenure Label\n",
       "Early Tenure    12419\n",
       "Mid Tenure       7588\n",
       "Late Tenure      4575\n",
       "Name: count, dtype: int64"
      ]
     },
     "execution_count": 47,
     "metadata": {},
     "output_type": "execute_result"
    }
   ],
   "source": [
    "df[\"Tenure Label\"].value_counts()"
   ]
  },
  {
   "cell_type": "markdown",
   "id": "25851910",
   "metadata": {},
   "source": [
    "# Ticket Size"
   ]
  },
  {
   "cell_type": "code",
   "execution_count": 48,
   "id": "3ed53c41",
   "metadata": {},
   "outputs": [],
   "source": [
    "df = df.sort_values(by='Amount Pending')\n",
    "total_amount_pending = df['Amount Pending'].sum()\n",
    "cohort_size = total_amount_pending / 3\n",
    "cumulative_amount = 0\n",
    "cohort_labels = []\n",
    "\n",
    "for amount in df['Amount Pending']:\n",
    "    if cumulative_amount + amount <= cohort_size:\n",
    "        cumulative_amount += amount\n",
    "        cohort_labels.append('Low ticket size')\n",
    "    elif cumulative_amount + amount <= 2 * cohort_size:\n",
    "        cumulative_amount += amount\n",
    "        cohort_labels.append('Medium ticket size')\n",
    "    else:\n",
    "        cumulative_amount += amount\n",
    "        cohort_labels.append('High ticket size')\n",
    "\n",
    "# Adding 'Ticket Size' column to DataFrame\n",
    "df['Ticket Size'] = cohort_labels\n"
   ]
  },
  {
   "cell_type": "code",
   "execution_count": 49,
   "id": "612fe4eb",
   "metadata": {},
   "outputs": [
    {
     "data": {
      "text/plain": [
       "Ticket Size\n",
       "Low ticket size       12296\n",
       "Medium ticket size     7731\n",
       "High ticket size       4555\n",
       "Name: count, dtype: int64"
      ]
     },
     "execution_count": 49,
     "metadata": {},
     "output_type": "execute_result"
    }
   ],
   "source": [
    "df[\"Ticket Size\"].value_counts()"
   ]
  },
  {
   "cell_type": "code",
   "execution_count": 50,
   "id": "a804dfef",
   "metadata": {},
   "outputs": [
    {
     "name": "stdout",
     "output_type": "stream",
     "text": [
      "14676828\n",
      "14676862\n",
      "14676917\n"
     ]
    }
   ],
   "source": [
    "print(df[df['Ticket Size'] == 'Low ticket size']['Amount Pending'].sum())\n",
    "print(df[df['Ticket Size'] == 'Medium ticket size']['Amount Pending'].sum())\n",
    "print(df[df['Ticket Size'] == 'High ticket size']['Amount Pending'].sum())\n"
   ]
  },
  {
   "cell_type": "code",
   "execution_count": 51,
   "id": "5e70b630",
   "metadata": {},
   "outputs": [
    {
     "data": {
      "text/html": [
       "<div>\n",
       "<style scoped>\n",
       "    .dataframe tbody tr th:only-of-type {\n",
       "        vertical-align: middle;\n",
       "    }\n",
       "\n",
       "    .dataframe tbody tr th {\n",
       "        vertical-align: top;\n",
       "    }\n",
       "\n",
       "    .dataframe thead th {\n",
       "        text-align: right;\n",
       "    }\n",
       "</style>\n",
       "<table border=\"1\" class=\"dataframe\">\n",
       "  <thead>\n",
       "    <tr style=\"text-align: right;\">\n",
       "      <th></th>\n",
       "      <th>Amount Pending</th>\n",
       "      <th>State</th>\n",
       "      <th>Tenure</th>\n",
       "      <th>Interest Rate</th>\n",
       "      <th>City</th>\n",
       "      <th>Bounce String</th>\n",
       "      <th>Disbursed Amount</th>\n",
       "      <th>Loan Number</th>\n",
       "      <th>Risk Label</th>\n",
       "      <th>Tenure Label</th>\n",
       "      <th>Ticket Size</th>\n",
       "    </tr>\n",
       "  </thead>\n",
       "  <tbody>\n",
       "    <tr>\n",
       "      <th>1534</th>\n",
       "      <td>423</td>\n",
       "      <td>Maharashtra</td>\n",
       "      <td>11</td>\n",
       "      <td>11.84</td>\n",
       "      <td>Sangli</td>\n",
       "      <td>FEMI</td>\n",
       "      <td>4389</td>\n",
       "      <td>HEMS0</td>\n",
       "      <td>Unknown Risk</td>\n",
       "      <td>Mid Tenure</td>\n",
       "      <td>Low ticket size</td>\n",
       "    </tr>\n",
       "    <tr>\n",
       "      <th>1982</th>\n",
       "      <td>444</td>\n",
       "      <td>Tamil Nadu</td>\n",
       "      <td>11</td>\n",
       "      <td>12.23</td>\n",
       "      <td>VIRUDHUNAGAR</td>\n",
       "      <td>FEMI</td>\n",
       "      <td>4598</td>\n",
       "      <td>1BYJD</td>\n",
       "      <td>Unknown Risk</td>\n",
       "      <td>Mid Tenure</td>\n",
       "      <td>Low ticket size</td>\n",
       "    </tr>\n",
       "    <tr>\n",
       "      <th>889</th>\n",
       "      <td>451</td>\n",
       "      <td>Maharashtra</td>\n",
       "      <td>7</td>\n",
       "      <td>37.92</td>\n",
       "      <td>Pune</td>\n",
       "      <td>LSSSSB</td>\n",
       "      <td>2793</td>\n",
       "      <td>7COLC</td>\n",
       "      <td>High Risk</td>\n",
       "      <td>Late Tenure</td>\n",
       "      <td>Low ticket size</td>\n",
       "    </tr>\n",
       "    <tr>\n",
       "      <th>265</th>\n",
       "      <td>522</td>\n",
       "      <td>Karnataka</td>\n",
       "      <td>11</td>\n",
       "      <td>12.83</td>\n",
       "      <td>Bagalkot</td>\n",
       "      <td>FEMI</td>\n",
       "      <td>5390</td>\n",
       "      <td>587TX</td>\n",
       "      <td>Unknown Risk</td>\n",
       "      <td>Mid Tenure</td>\n",
       "      <td>Low ticket size</td>\n",
       "    </tr>\n",
       "    <tr>\n",
       "      <th>1486</th>\n",
       "      <td>522</td>\n",
       "      <td>Maharashtra</td>\n",
       "      <td>11</td>\n",
       "      <td>12.83</td>\n",
       "      <td>Pune</td>\n",
       "      <td>S</td>\n",
       "      <td>5390</td>\n",
       "      <td>5QJN0</td>\n",
       "      <td>Low Risk</td>\n",
       "      <td>Early Tenure</td>\n",
       "      <td>Low ticket size</td>\n",
       "    </tr>\n",
       "    <tr>\n",
       "      <th>...</th>\n",
       "      <td>...</td>\n",
       "      <td>...</td>\n",
       "      <td>...</td>\n",
       "      <td>...</td>\n",
       "      <td>...</td>\n",
       "      <td>...</td>\n",
       "      <td>...</td>\n",
       "      <td>...</td>\n",
       "      <td>...</td>\n",
       "      <td>...</td>\n",
       "      <td>...</td>\n",
       "    </tr>\n",
       "    <tr>\n",
       "      <th>9776</th>\n",
       "      <td>12500</td>\n",
       "      <td>Maharashtra</td>\n",
       "      <td>8</td>\n",
       "      <td>0.00</td>\n",
       "      <td>Kolhapur</td>\n",
       "      <td>LLSSSSS</td>\n",
       "      <td>100000</td>\n",
       "      <td>8MQRY</td>\n",
       "      <td>Low Risk</td>\n",
       "      <td>Late Tenure</td>\n",
       "      <td>High ticket size</td>\n",
       "    </tr>\n",
       "    <tr>\n",
       "      <th>13946</th>\n",
       "      <td>12500</td>\n",
       "      <td>Maharashtra</td>\n",
       "      <td>8</td>\n",
       "      <td>0.00</td>\n",
       "      <td>Pune</td>\n",
       "      <td>S</td>\n",
       "      <td>100000</td>\n",
       "      <td>1R840</td>\n",
       "      <td>Low Risk</td>\n",
       "      <td>Early Tenure</td>\n",
       "      <td>High ticket size</td>\n",
       "    </tr>\n",
       "    <tr>\n",
       "      <th>23089</th>\n",
       "      <td>12500</td>\n",
       "      <td>Kerala</td>\n",
       "      <td>8</td>\n",
       "      <td>0.00</td>\n",
       "      <td>MALAPPURAM</td>\n",
       "      <td>S</td>\n",
       "      <td>100000</td>\n",
       "      <td>QUV9D</td>\n",
       "      <td>Low Risk</td>\n",
       "      <td>Early Tenure</td>\n",
       "      <td>High ticket size</td>\n",
       "    </tr>\n",
       "    <tr>\n",
       "      <th>14009</th>\n",
       "      <td>12500</td>\n",
       "      <td>Maharashtra</td>\n",
       "      <td>8</td>\n",
       "      <td>0.00</td>\n",
       "      <td>Sangli</td>\n",
       "      <td>S</td>\n",
       "      <td>100000</td>\n",
       "      <td>66HA4</td>\n",
       "      <td>Low Risk</td>\n",
       "      <td>Early Tenure</td>\n",
       "      <td>High ticket size</td>\n",
       "    </tr>\n",
       "    <tr>\n",
       "      <th>13706</th>\n",
       "      <td>13349</td>\n",
       "      <td>Maharashtra</td>\n",
       "      <td>8</td>\n",
       "      <td>0.00</td>\n",
       "      <td>Nagpur</td>\n",
       "      <td>S</td>\n",
       "      <td>106792</td>\n",
       "      <td>HZ6XJ</td>\n",
       "      <td>Low Risk</td>\n",
       "      <td>Early Tenure</td>\n",
       "      <td>High ticket size</td>\n",
       "    </tr>\n",
       "  </tbody>\n",
       "</table>\n",
       "<p>24582 rows × 11 columns</p>\n",
       "</div>"
      ],
      "text/plain": [
       "       Amount Pending        State  Tenure  Interest Rate          City  \\\n",
       "1534              423  Maharashtra      11          11.84        Sangli   \n",
       "1982              444   Tamil Nadu      11          12.23  VIRUDHUNAGAR   \n",
       "889               451  Maharashtra       7          37.92          Pune   \n",
       "265               522    Karnataka      11          12.83      Bagalkot   \n",
       "1486              522  Maharashtra      11          12.83          Pune   \n",
       "...               ...          ...     ...            ...           ...   \n",
       "9776            12500  Maharashtra       8           0.00      Kolhapur   \n",
       "13946           12500  Maharashtra       8           0.00          Pune   \n",
       "23089           12500       Kerala       8           0.00    MALAPPURAM   \n",
       "14009           12500  Maharashtra       8           0.00        Sangli   \n",
       "13706           13349  Maharashtra       8           0.00        Nagpur   \n",
       "\n",
       "      Bounce String  Disbursed Amount Loan Number    Risk Label  Tenure Label  \\\n",
       "1534           FEMI              4389       HEMS0  Unknown Risk    Mid Tenure   \n",
       "1982           FEMI              4598       1BYJD  Unknown Risk    Mid Tenure   \n",
       "889          LSSSSB              2793       7COLC     High Risk   Late Tenure   \n",
       "265            FEMI              5390       587TX  Unknown Risk    Mid Tenure   \n",
       "1486              S              5390       5QJN0      Low Risk  Early Tenure   \n",
       "...             ...               ...         ...           ...           ...   \n",
       "9776        LLSSSSS            100000       8MQRY      Low Risk   Late Tenure   \n",
       "13946             S            100000       1R840      Low Risk  Early Tenure   \n",
       "23089             S            100000       QUV9D      Low Risk  Early Tenure   \n",
       "14009             S            100000       66HA4      Low Risk  Early Tenure   \n",
       "13706             S            106792       HZ6XJ      Low Risk  Early Tenure   \n",
       "\n",
       "            Ticket Size  \n",
       "1534    Low ticket size  \n",
       "1982    Low ticket size  \n",
       "889     Low ticket size  \n",
       "265     Low ticket size  \n",
       "1486    Low ticket size  \n",
       "...                 ...  \n",
       "9776   High ticket size  \n",
       "13946  High ticket size  \n",
       "23089  High ticket size  \n",
       "14009  High ticket size  \n",
       "13706  High ticket size  \n",
       "\n",
       "[24582 rows x 11 columns]"
      ]
     },
     "execution_count": 51,
     "metadata": {},
     "output_type": "execute_result"
    }
   ],
   "source": [
    "df"
   ]
  },
  {
   "cell_type": "code",
   "execution_count": 62,
   "id": "c99f939a",
   "metadata": {},
   "outputs": [
    {
     "data": {
      "image/png": "[encoded data removed]",
      "text/plain": [
       "<Figure size 800x600 with 1 Axes>"
      ]
     },
     "metadata": {},
     "output_type": "display_data"
    }
   ],
   "source": [
    "import matplotlib.pyplot as plt\n",
    "\n",
    "# Count the number of borrowers in each risk category\n",
    "risk_counts = df['Risk Label'].value_counts()\n",
    "\n",
    "# Plot a bar chart for the risk distribution\n",
    "plt.figure(figsize=(8, 6))\n",
    "risk_counts.plot(kind='bar', color='green')\n",
    "plt.title('Distribution of Borrowers by Risk')\n",
    "plt.xlabel('Risk Label')\n",
    "plt.ylabel('Number of Borrowers')\n",
    "plt.xticks(rotation=45)\n",
    "plt.show()\n"
   ]
  },
  {
   "cell_type": "code",
   "execution_count": 61,
   "id": "6b96256b",
   "metadata": {},
   "outputs": [
    {
     "data": {
      "image/png": "[encoded data removed]",
      "text/plain": [
       "<Figure size 800x600 with 1 Axes>"
      ]
     },
     "metadata": {},
     "output_type": "display_data"
    }
   ],
   "source": [
    "#Count the number of borrowers in each tenure label category\n",
    "tenure_counts = df['Tenure Label'].value_counts()\n",
    "\n",
    "# Plot a horizontal bar chart for the tenure completion distribution\n",
    "plt.figure(figsize=(8, 6))\n",
    "tenure_counts.plot(kind='barh', color='Red')\n",
    "plt.title('Distribution of Borrowers by Tenure Completion')\n",
    "plt.xlabel('Number of Borrowers')\n",
    "plt.ylabel('Tenure Label')\n",
    "plt.show()"
   ]
  },
  {
   "cell_type": "code",
   "execution_count": 54,
   "id": "64f4d3ff",
   "metadata": {},
   "outputs": [
    {
     "data": {
      "image/png": "[encoded data removed]",
      "text/plain": [
       "<Figure size 800x600 with 1 Axes>"
      ]
     },
     "metadata": {},
     "output_type": "display_data"
    }
   ],
   "source": [
    "# Count the number of borrowers in each ticket size category\n",
    "ticket_size_counts = df['Ticket Size'].value_counts()\n",
    "\n",
    "# Plot a pie chart for the ticket size distribution\n",
    "plt.figure(figsize=(8, 6))\n",
    "ticket_size_counts.plot(kind='pie', autopct='%1.1f%%', colors=['green', 'blue', 'yellow'])\n",
    "plt.title('Distribution of Borrowers by Ticket Size')\n",
    "plt.ylabel('')\n",
    "plt.show()\n"
   ]
  },
  {
   "cell_type": "code",
   "execution_count": 59,
   "id": "c185801f",
   "metadata": {},
   "outputs": [
    {
     "name": "stdout",
     "output_type": "stream",
     "text": [
      "Recommendation: Spend on Voice bot channel with total cost 35600 rupees.\n",
      "Spend on Digital channel with total cost : 68835 rupees.\n",
      "Spend on Voice bot channel with total cost : 35600 rupees.\n",
      "Spend on Telecalling channel with total cost : 1229100 rupees.\n"
     ]
    }
   ],
   "source": [
    "# Constants defining the cost of each channel\n",
    "DIGITAL_COST = 5\n",
    "VOICE_BOT_COST = 10\n",
    "TELECALLING_COST = 50\n",
    "\n",
    "# Function to calculate the cost for each channel\n",
    "def calculate_channel_cost(df):\n",
    "    digital_criteria = (df['Risk Label'] == 'Unknown Risk') | (df['Amount Pending'] < df['Amount Pending'].median())\n",
    "    voice_bot_criteria = (df['City'].isin(['Mumbai', 'Pune', 'Delhi', 'Ahmedabad', 'Surat', 'Chennai', 'Kolkata', 'Bangalore', 'Hyderabad'])) & \\\n",
    "                         ((df['Risk Label'] == 'Low Risk') | (df['Ticket Size'] != 'High ticket size'))\n",
    "    \n",
    "    digital_cost = DIGITAL_COST * digital_criteria.sum()\n",
    "    voice_bot_cost = VOICE_BOT_COST * voice_bot_criteria.sum()\n",
    "    telecalling_cost = TELECALLING_COST * len(df)\n",
    "    \n",
    "    return digital_cost, voice_bot_cost, telecalling_cost\n",
    "\n",
    "# Sample DataFrame 'df' containing loan data\n",
    "# Assuming 'Risk Label', 'Tenure Label', 'Ticket Size' columns are already created\n",
    "# Adjust the DataFrame name and column names according to your actual DataFrame structure\n",
    "\n",
    "# Calculate the cost for each channel\n",
    "digital_cost, voice_bot_cost, telecalling_cost = calculate_channel_cost(df)\n",
    "\n",
    "# Output the channel with the lowest total cost\n",
    "min_cost_channel = min(digital_cost, voice_bot_cost, telecalling_cost)\n",
    "\n",
    "# Output the channel with its total cost\n",
    "if min_cost_channel == digital_cost:\n",
    "    print(f\"Recommendation: Spend on Digital channel with total cost {digital_cost} rupees.\")\n",
    "elif min_cost_channel == voice_bot_cost:\n",
    "    print(f\"Recommendation: Spend on Voice bot channel with total cost {voice_bot_cost} rupees.\")\n",
    "else:\n",
    "    print(f\"Recommendation: Spend on Telecalling channel with total cost {telecalling_cost} rupees.\")\n",
    "\n",
    "print(f\"Spend on Digital channel with total cost : {digital_cost} rupees.\")  \n",
    "print(f\"Spend on Voice bot channel with total cost : {voice_bot_cost} rupees.\")\n",
    "print(f\"Spend on Telecalling channel with total cost : {telecalling_cost} rupees.\")\n",
    "\n"
   ]
  },
  {
   "cell_type": "code",
   "execution_count": 60,
   "id": "156d042b",
   "metadata": {},
   "outputs": [],
   "source": [
    "df.to_excel('loan_data.xlsx', index=False)   "
   ]
  }
 ],
 "metadata": {
  "kernelspec": {
   "display_name": "Python 3 (ipykernel)",
   "language": "python",
   "name": "python3"
  },
  "language_info": {
   "codemirror_mode": {
    "name": "ipython",
    "version": 3
   },
   "file_extension": ".py",
   "mimetype": "text/x-python",
   "name": "python",
   "nbconvert_exporter": "python",
   "pygments_lexer": "ipython3",
   "version": "3.11.4"
  }
 },
 "nbformat": 4,
 "nbformat_minor": 5
}
